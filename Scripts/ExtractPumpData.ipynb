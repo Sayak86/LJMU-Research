{
  "cells": [
    {
      "cell_type": "markdown",
      "metadata": {
        "id": "view-in-github",
        "colab_type": "text"
      },
      "source": [
        "<a href=\"https://colab.research.google.com/github/Sayak86/LJMU-Research/blob/main/Scripts/ExtractPumpData.ipynb\" target=\"_parent\"><img src=\"https://colab.research.google.com/assets/colab-badge.svg\" alt=\"Open In Colab\"/></a>"
      ]
    },
    {
      "cell_type": "code",
      "execution_count": 8,
      "id": "5e9222ad",
      "metadata": {
        "id": "5e9222ad"
      },
      "outputs": [],
      "source": [
        "import os,json\n",
        "import sys\n",
        "import openai\n"
      ]
    },
    {
      "cell_type": "code",
      "source": [
        "from google.colab import drive\n",
        "drive.mount('/content/drive')"
      ],
      "metadata": {
        "colab": {
          "base_uri": "https://localhost:8080/"
        },
        "id": "HTPI1rTn8XSk",
        "outputId": "471cd18c-2306-4c1b-dfe3-5824572cc422"
      },
      "id": "HTPI1rTn8XSk",
      "execution_count": null,
      "outputs": [
        {
          "output_type": "stream",
          "name": "stdout",
          "text": [
            "Mounted at /content/drive\n"
          ]
        }
      ]
    },
    {
      "cell_type": "code",
      "source": [
        "\n",
        "# Set the API key in env variable\n",
        "from google.colab import userdata\n",
        "api_key = userdata.get('OpenAIAPIKey')\n",
        "\n",
        "\n",
        "# Initialize the OpenAI API\n",
        "openai.api_key = api_key\n",
        "\n",
        "def callChatCompletion(messages,document):\n",
        "    messages.append({\"role\": \"user\", \"content\": document})\n",
        "    response = openai.chat.completions.create(\n",
        "                                        model=\"gpt-4o\",\n",
        "                                        messages = messages,\n",
        "                                        temperature=0\n",
        "\n",
        "    )\n",
        "    return response.choices[0].message.content"
      ],
      "metadata": {
        "id": "rqiMDBVF9v4u"
      },
      "id": "rqiMDBVF9v4u",
      "execution_count": 20,
      "outputs": []
    },
    {
      "cell_type": "code",
      "source": [
        "from pdf2image import convert_from_path\n",
        "import pytesseract\n",
        "from PIL import Image\n",
        "\n",
        "def extract_text_from_pdf(file_path):\n",
        "    # Set the tesseract executable path\n",
        "    pytesseract.pytesseract.tesseract_cmd = \"/usr/bin/tesseract\"  # Update this path as per your installation\n",
        "    images = convert_from_path(file_path, dpi=500)\n",
        "    text = ''\n",
        "    for i, image in enumerate(images):\n",
        "        text += pytesseract.image_to_string(image)\n",
        "    return text\n"
      ],
      "metadata": {
        "id": "BP_AXxxz-Iy8"
      },
      "id": "BP_AXxxz-Iy8",
      "execution_count": 22,
      "outputs": []
    },
    {
      "cell_type": "code",
      "source": [
        "# Basic prompt\n",
        "delimiter = \"################\"\n",
        "\n",
        "SYSTEM_PROMPT = \"\"\"\n",
        "You are an intelligent mechanical engineer. You need to extract few data points form the given document.\n",
        "Your response should be in JSON format.\n",
        "You must extract the below data points\n",
        "Type of Pump:\n",
        "Type of Casing Orientation & Execution:\n",
        "Pump Model:\n",
        "No. of Stage:\n",
        "Type of Impeller:\n",
        "Rated Flow:\n",
        "Rated Head: mwc\n",
        "Rated Speed:\n",
        "Rated Efficiency:\n",
        "Power Absorbed at Duty Point:\n",
        "Fluid Medium:\n",
        "Medium Temperature:\n",
        "Sp. Gravity of Fluid @15°C:\n",
        "Kinematic Viscosity of Fluid @15°C:\n",
        "Cq // Ch // Ce // Cn [HI-2004]:\n",
        "QWE // HWE // EffWE [Water Equivalent]:\n",
        "Shut-off Head: mwc\n",
        "Head Rise to Shut-off:\n",
        "Flow Ratio (Rated / BEP):\n",
        "Rated Impeller Diameter:\n",
        "Full Impeller Diameter:\n",
        "Imp. Diameter Ratio (Rated / Full):\n",
        "Head Ratio (Rated Dia. / Max Dia.):\n",
        "Operating/Run-out Flow:\n",
        "System Head at Operating/Run-out Flow:\n",
        "Operating Speed:\n",
        "Efficiency at Operating/Run-out Flow:\n",
        "\"Max. Power Absorbed\n",
        "at Operating/Run-out Flow:\"\n",
        "Suction Branch Size:\n",
        "Delivery Branch Size:\n",
        "Minimum Continuous Safe Flow:\n",
        "Suction Condition:\n",
        "NPSHa at Rated Flow:\n",
        "NPSHa at Operating/Run-out Flow:\n",
        "NPSHr at Rated Flow:\n",
        "NPSHr at Operating/Run-out Flow:\n",
        "Particle Size need to be Handled:\n",
        "Direction of Rotation:\n",
        "Suc. Flange // Del. Flange Standard:\n",
        "Bearing Type (DE // NDE):\n",
        "Bearing Designation (NDE // DE):\n",
        "Bearing Lubrication Type:\n",
        "Shaft Diameter at Coupling End:\n",
        "Coupling Type:\n",
        "Coupling Model:\n",
        "Coupling Make:\n",
        "Mass of Bare Pump:\n",
        "Type of Driver:\n",
        "Motor Rating:\n",
        "Motor Frame Size:\n",
        "\"\"\""
      ],
      "metadata": {
        "id": "oNbPxtgQ_PSb"
      },
      "id": "oNbPxtgQ_PSb",
      "execution_count": 25,
      "outputs": []
    },
    {
      "cell_type": "code",
      "source": [
        "# Reset the messages\n",
        "messages = [\n",
        "        {\"role\": \"system\", \"content\": SYSTEM_PROMPT}\n",
        "    ]"
      ],
      "metadata": {
        "id": "ckDA6qir-StB"
      },
      "id": "ckDA6qir-StB",
      "execution_count": 26,
      "outputs": []
    },
    {
      "cell_type": "code",
      "source": [
        "# Get the content of the email pdf\n",
        "file_path = \"/content/drive/MyDrive/Pump/Data/FLOWMORE.pdf\"\n",
        "proposal = extract_text_from_pdf(file_path)"
      ],
      "metadata": {
        "id": "3B677fosAFYW"
      },
      "id": "3B677fosAFYW",
      "execution_count": 28,
      "outputs": []
    },
    {
      "cell_type": "code",
      "source": [
        "print(proposal)"
      ],
      "metadata": {
        "id": "cXB6WBzfPtzx"
      },
      "id": "cXB6WBzfPtzx",
      "execution_count": null,
      "outputs": []
    },
    {
      "cell_type": "code",
      "source": [
        "    # Call the function to extract the data from the email\n",
        "print(\"============Data extraction starts ============\")\n",
        "extracted_data = callChatCompletion(messages,proposal)\n",
        "print(f\"Extracted data is {extracted_data}\")\n",
        "print(\"============Data extraction ends  ============\")"
      ],
      "metadata": {
        "colab": {
          "base_uri": "https://localhost:8080/"
        },
        "id": "awyg7IflAJ3Z",
        "outputId": "0a8d8293-ee8b-428d-b589-7a8667241818"
      },
      "id": "awyg7IflAJ3Z",
      "execution_count": 29,
      "outputs": [
        {
          "output_type": "stream",
          "name": "stdout",
          "text": [
            "============Data extraction starts ============\n",
            "Extracted data is ```json\n",
            "{\n",
            "  \"Type of Pump\": \"Horizontal Centrifugal Split Casing Pump\",\n",
            "  \"Type of Casing Orientation & Execution\": \"Horizontally Axially Split Casing\",\n",
            "  \"Pump Model\": \"5824-200X150-1460\",\n",
            "  \"No. of Stage\": \"Single Stage\",\n",
            "  \"Type of Impeller\": \"Closed\",\n",
            "  \"Rated Flow\": \"300 m3/hr\",\n",
            "  \"Rated Head\": \"65.00 m\",\n",
            "  \"Rated Speed\": \"1485 RPM\",\n",
            "  \"Rated Efficiency\": \"80%\",\n",
            "  \"Power Absorbed at Duty Point\": \"66.38 kW\",\n",
            "  \"Fluid Medium\": \"Water\",\n",
            "  \"Medium Temperature\": \"32.00 deg C\",\n",
            "  \"Sp. Gravity of Fluid @15°C\": \"1.040\",\n",
            "  \"Kinematic Viscosity of Fluid @15°C\": \"1.14 cSt\",\n",
            "  \"Cq // Ch // Ce // Cn [HI-2004]\": \"1.00 / 1.00 / 1.00 / 1.00\",\n",
            "  \"QWE // HWE // EffWE [Water Equivalent]\": \"300.0 m3/h / 65.00 m / 80.55%\",\n",
            "  \"Shut-off Head: mwc\": \"73 m\",\n",
            "  \"Head Rise to Shut-off\": \"7.158%\",\n",
            "  \"Flow Ratio (Rated / BEP)\": \"84.73%\",\n",
            "  \"Rated Impeller Diameter\": \"414 mm\",\n",
            "  \"Full Impeller Diameter\": \"450 mm\",\n",
            "  \"Imp. Diameter Ratio (Rated / Full)\": \"92.00%\",\n",
            "  \"Head Ratio (Rated Dia. / Max Dia.)\": \"84.19%\",\n",
            "  \"Operating/Run-out Flow\": \"Not specified\",\n",
            "  \"System Head at Operating/Run-out Flow\": \"Not specified\",\n",
            "  \"Operating Speed\": \"1485 RPM\",\n",
            "  \"Efficiency at Operating/Run-out Flow\": \"Not specified\",\n",
            "  \"Max. Power Absorbed at Operating/Run-out Flow\": \"Not specified\",\n",
            "  \"Suction Branch Size\": \"200 mm\",\n",
            "  \"Delivery Branch Size\": \"150 mm\",\n",
            "  \"Minimum Continuous Safe Flow\": \"79.27 m3/h\",\n",
            "  \"Suction Condition\": \"Flooded\",\n",
            "  \"NPSHa at Rated Flow\": \"Ample\",\n",
            "  \"NPSHa at Operating/Run-out Flow\": \"Not specified\",\n",
            "  \"NPSHr at Rated Flow\": \"3.22 m\",\n",
            "  \"NPSHr at Operating/Run-out Flow\": \"Not specified\",\n",
            "  \"Particle Size need to be Handled\": \"0.00 mm\",\n",
            "  \"Direction of Rotation\": \"Counter Clockwise\",\n",
            "  \"Suc. Flange // Del. Flange Standard\": \"EN1092-2\",\n",
            "  \"Bearing Type (DE // NDE)\": \"SKF/FAG\",\n",
            "  \"Bearing Designation (NDE // DE)\": \"Not specified\",\n",
            "  \"Bearing Lubrication Type\": \"Grease\",\n",
            "  \"Shaft Diameter at Coupling End\": \"Not specified\",\n",
            "  \"Coupling Type\": \"Flexible Pin Bush Type\",\n",
            "  \"Coupling Model\": \"Not specified\",\n",
            "  \"Coupling Make\": \"Not specified\",\n",
            "  \"Mass of Bare Pump\": \"Not specified\",\n",
            "  \"Type of Driver\": \"Electric Motor\",\n",
            "  \"Motor Rating\": \"90 kW\",\n",
            "  \"Motor Frame Size\": \"Not specified\"\n",
            "}\n",
            "```\n",
            "============Data extraction ends  ============\n"
          ]
        }
      ]
    },
    {
      "cell_type": "code",
      "source": [],
      "metadata": {
        "id": "-y03Ct8XRKvL"
      },
      "id": "-y03Ct8XRKvL",
      "execution_count": null,
      "outputs": []
    }
  ],
  "metadata": {
    "kernelspec": {
      "display_name": "base",
      "language": "python",
      "name": "python3"
    },
    "language_info": {
      "codemirror_mode": {
        "name": "ipython",
        "version": 3
      },
      "file_extension": ".py",
      "mimetype": "text/x-python",
      "name": "python",
      "nbconvert_exporter": "python",
      "pygments_lexer": "ipython3",
      "version": "3.11.5"
    },
    "colab": {
      "provenance": [],
      "include_colab_link": true
    }
  },
  "nbformat": 4,
  "nbformat_minor": 5
}