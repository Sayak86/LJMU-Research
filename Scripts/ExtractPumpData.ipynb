{
  "cells": [
    {
      "cell_type": "code",
      "execution_count": 3,
      "id": "5e9222ad",
      "metadata": {
        "id": "5e9222ad"
      },
      "outputs": [],
      "source": [
        "import os,json\n",
        "import sys\n",
        "import openai\n"
      ]
    },
    {
      "cell_type": "code",
      "source": [
        "from google.colab import drive\n",
        "drive.mount('/content/drive')"
      ],
      "metadata": {
        "colab": {
          "base_uri": "https://localhost:8080/"
        },
        "id": "HTPI1rTn8XSk",
        "outputId": "471cd18c-2306-4c1b-dfe3-5824572cc422"
      },
      "id": "HTPI1rTn8XSk",
      "execution_count": 1,
      "outputs": [
        {
          "output_type": "stream",
          "name": "stdout",
          "text": [
            "Mounted at /content/drive\n"
          ]
        }
      ]
    },
    {
      "cell_type": "code",
      "source": [
        "\n",
        "# Set the API key in env variable\n",
        "\n",
        "api_key = os.getenv(\"OPENAI_API_KEY\")\n",
        "\n",
        "# Initialize the OpenAI API\n",
        "openai.api_key = api_key\n",
        "\n",
        "def callChatCompletion(messages,email):\n",
        "    messages.append({\"role\": \"user\", \"content\": email})\n",
        "    response = openai.chat.completions.create(\n",
        "                                        model=\"gpt-4o\",\n",
        "                                        messages = messages,\n",
        "                                        temperature=0\n",
        "\n",
        "    )\n",
        "    return response.choices[0].message.content"
      ],
      "metadata": {
        "id": "rqiMDBVF9v4u"
      },
      "id": "rqiMDBVF9v4u",
      "execution_count": 5,
      "outputs": []
    },
    {
      "cell_type": "code",
      "source": [
        "from pdf2image import convert_from_path\n",
        "import pytesseract\n",
        "from PIL import Image\n",
        "\n",
        "def extract_text_from_pdf(file_path):\n",
        "    # Set the tesseract executable path\n",
        "    pytesseract.pytesseract.tesseract_cmd = \"/usr/bin/tesseract\"  # Update this path as per your installation\n",
        "    images = convert_from_path(file_path, dpi=300)\n",
        "    text = ''\n",
        "    for i, image in enumerate(images):\n",
        "        text += pytesseract.image_to_string(image)\n",
        "    return text\n"
      ],
      "metadata": {
        "id": "BP_AXxxz-Iy8"
      },
      "id": "BP_AXxxz-Iy8",
      "execution_count": 7,
      "outputs": []
    },
    {
      "cell_type": "code",
      "source": [],
      "metadata": {
        "id": "ckDA6qir-StB"
      },
      "id": "ckDA6qir-StB",
      "execution_count": null,
      "outputs": []
    }
  ],
  "metadata": {
    "kernelspec": {
      "display_name": "base",
      "language": "python",
      "name": "python3"
    },
    "language_info": {
      "codemirror_mode": {
        "name": "ipython",
        "version": 3
      },
      "file_extension": ".py",
      "mimetype": "text/x-python",
      "name": "python",
      "nbconvert_exporter": "python",
      "pygments_lexer": "ipython3",
      "version": "3.11.5"
    },
    "colab": {
      "provenance": []
    }
  },
  "nbformat": 4,
  "nbformat_minor": 5
}